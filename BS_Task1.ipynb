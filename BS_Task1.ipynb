{
  "nbformat": 4,
  "nbformat_minor": 0,
  "metadata": {
    "colab": {
      "provenance": [],
      "collapsed_sections": [
        "kay5ujrRPhez",
        "kEezQnpxPcSJ",
        "MFooqywlOkZF",
        "i_d5l7m5OJfg",
        "AaO-xPlDGTMN",
        "fnsCn0X8GKx_"
      ]
    },
    "kernelspec": {
      "name": "python3",
      "display_name": "Python 3"
    },
    "language_info": {
      "name": "python"
    }
  },
  "cells": [
    {
      "cell_type": "markdown",
      "source": [
        "Process to Extract data from Texas Driving License Using EasyOCR and Regex"
      ],
      "metadata": {
        "id": "WqTkM8svPnml"
      }
    },
    {
      "cell_type": "markdown",
      "source": [
        "## Library Needed"
      ],
      "metadata": {
        "id": "kay5ujrRPhez"
      }
    },
    {
      "cell_type": "code",
      "source": [
        "!pip install easyocr"
      ],
      "metadata": {
        "colab": {
          "base_uri": "https://localhost:8080/"
        },
        "id": "AdVb7tQJdW_-",
        "outputId": "96cd6d25-8098-4221-b38b-d84b496322d0"
      },
      "execution_count": 2,
      "outputs": [
        {
          "output_type": "stream",
          "name": "stdout",
          "text": [
            "Looking in indexes: https://pypi.org/simple, https://us-python.pkg.dev/colab-wheels/public/simple/\n",
            "Collecting easyocr\n",
            "  Downloading easyocr-1.7.0-py3-none-any.whl (2.9 MB)\n",
            "\u001b[2K     \u001b[90m━━━━━━━━━━━━━━━━━━━━━━━━━━━━━━━━━━━━━━━━\u001b[0m \u001b[32m2.9/2.9 MB\u001b[0m \u001b[31m37.2 MB/s\u001b[0m eta \u001b[36m0:00:00\u001b[0m\n",
            "\u001b[?25hRequirement already satisfied: torch in /usr/local/lib/python3.10/dist-packages (from easyocr) (2.0.1+cu118)\n",
            "Requirement already satisfied: torchvision>=0.5 in /usr/local/lib/python3.10/dist-packages (from easyocr) (0.15.2+cu118)\n",
            "Requirement already satisfied: opencv-python-headless in /usr/local/lib/python3.10/dist-packages (from easyocr) (4.7.0.72)\n",
            "Requirement already satisfied: scipy in /usr/local/lib/python3.10/dist-packages (from easyocr) (1.10.1)\n",
            "Requirement already satisfied: numpy in /usr/local/lib/python3.10/dist-packages (from easyocr) (1.22.4)\n",
            "Requirement already satisfied: Pillow in /usr/local/lib/python3.10/dist-packages (from easyocr) (8.4.0)\n",
            "Requirement already satisfied: scikit-image in /usr/local/lib/python3.10/dist-packages (from easyocr) (0.19.3)\n",
            "Collecting python-bidi (from easyocr)\n",
            "  Downloading python_bidi-0.4.2-py2.py3-none-any.whl (30 kB)\n",
            "Requirement already satisfied: PyYAML in /usr/local/lib/python3.10/dist-packages (from easyocr) (6.0)\n",
            "Requirement already satisfied: Shapely in /usr/local/lib/python3.10/dist-packages (from easyocr) (2.0.1)\n",
            "Collecting pyclipper (from easyocr)\n",
            "  Downloading pyclipper-1.3.0.post4-cp310-cp310-manylinux_2_12_x86_64.manylinux2010_x86_64.whl (813 kB)\n",
            "\u001b[2K     \u001b[90m━━━━━━━━━━━━━━━━━━━━━━━━━━━━━━━━━━━━━━\u001b[0m \u001b[32m813.9/813.9 kB\u001b[0m \u001b[31m57.0 MB/s\u001b[0m eta \u001b[36m0:00:00\u001b[0m\n",
            "\u001b[?25hCollecting ninja (from easyocr)\n",
            "  Downloading ninja-1.11.1-py2.py3-none-manylinux_2_12_x86_64.manylinux2010_x86_64.whl (145 kB)\n",
            "\u001b[2K     \u001b[90m━━━━━━━━━━━━━━━━━━━━━━━━━━━━━━━━━━━━━━\u001b[0m \u001b[32m146.0/146.0 kB\u001b[0m \u001b[31m19.3 MB/s\u001b[0m eta \u001b[36m0:00:00\u001b[0m\n",
            "\u001b[?25hRequirement already satisfied: requests in /usr/local/lib/python3.10/dist-packages (from torchvision>=0.5->easyocr) (2.27.1)\n",
            "Requirement already satisfied: filelock in /usr/local/lib/python3.10/dist-packages (from torch->easyocr) (3.12.0)\n",
            "Requirement already satisfied: typing-extensions in /usr/local/lib/python3.10/dist-packages (from torch->easyocr) (4.5.0)\n",
            "Requirement already satisfied: sympy in /usr/local/lib/python3.10/dist-packages (from torch->easyocr) (1.11.1)\n",
            "Requirement already satisfied: networkx in /usr/local/lib/python3.10/dist-packages (from torch->easyocr) (3.1)\n",
            "Requirement already satisfied: jinja2 in /usr/local/lib/python3.10/dist-packages (from torch->easyocr) (3.1.2)\n",
            "Requirement already satisfied: triton==2.0.0 in /usr/local/lib/python3.10/dist-packages (from torch->easyocr) (2.0.0)\n",
            "Requirement already satisfied: cmake in /usr/local/lib/python3.10/dist-packages (from triton==2.0.0->torch->easyocr) (3.25.2)\n",
            "Requirement already satisfied: lit in /usr/local/lib/python3.10/dist-packages (from triton==2.0.0->torch->easyocr) (16.0.5)\n",
            "Requirement already satisfied: six in /usr/local/lib/python3.10/dist-packages (from python-bidi->easyocr) (1.16.0)\n",
            "Requirement already satisfied: imageio>=2.4.1 in /usr/local/lib/python3.10/dist-packages (from scikit-image->easyocr) (2.25.1)\n",
            "Requirement already satisfied: tifffile>=2019.7.26 in /usr/local/lib/python3.10/dist-packages (from scikit-image->easyocr) (2023.4.12)\n",
            "Requirement already satisfied: PyWavelets>=1.1.1 in /usr/local/lib/python3.10/dist-packages (from scikit-image->easyocr) (1.4.1)\n",
            "Requirement already satisfied: packaging>=20.0 in /usr/local/lib/python3.10/dist-packages (from scikit-image->easyocr) (23.1)\n",
            "Requirement already satisfied: MarkupSafe>=2.0 in /usr/local/lib/python3.10/dist-packages (from jinja2->torch->easyocr) (2.1.2)\n",
            "Requirement already satisfied: urllib3<1.27,>=1.21.1 in /usr/local/lib/python3.10/dist-packages (from requests->torchvision>=0.5->easyocr) (1.26.15)\n",
            "Requirement already satisfied: certifi>=2017.4.17 in /usr/local/lib/python3.10/dist-packages (from requests->torchvision>=0.5->easyocr) (2022.12.7)\n",
            "Requirement already satisfied: charset-normalizer~=2.0.0 in /usr/local/lib/python3.10/dist-packages (from requests->torchvision>=0.5->easyocr) (2.0.12)\n",
            "Requirement already satisfied: idna<4,>=2.5 in /usr/local/lib/python3.10/dist-packages (from requests->torchvision>=0.5->easyocr) (3.4)\n",
            "Requirement already satisfied: mpmath>=0.19 in /usr/local/lib/python3.10/dist-packages (from sympy->torch->easyocr) (1.3.0)\n",
            "Installing collected packages: pyclipper, ninja, python-bidi, easyocr\n",
            "Successfully installed easyocr-1.7.0 ninja-1.11.1 pyclipper-1.3.0.post4 python-bidi-0.4.2\n"
          ]
        }
      ]
    },
    {
      "cell_type": "markdown",
      "source": [
        "## Full Readout"
      ],
      "metadata": {
        "id": "kEezQnpxPcSJ"
      }
    },
    {
      "cell_type": "code",
      "execution_count": 76,
      "metadata": {
        "colab": {
          "base_uri": "https://localhost:8080/"
        },
        "id": "Mi5RroLFdUvX",
        "outputId": "c8855962-ce81-4f15-fff4-26a2f484d8be"
      },
      "outputs": [
        {
          "output_type": "stream",
          "name": "stderr",
          "text": [
            "WARNING:easyocr.easyocr:Neither CUDA nor MPS are available - defaulting to CPU. Note: This module is much faster with a GPU.\n"
          ]
        },
        {
          "output_type": "stream",
          "name": "stdout",
          "text": [
            "USA\n",
            "TTX\n",
            "DRIVER LICENSE\n",
            "Id DL\n",
            "12345678\n",
            "ciass\n",
            "AM\n",
            "Iss\n",
            "07/30/2006\n",
            "07/30/2012\n",
            "DOB\n",
            "07/30/1976\n",
            "SAMPLE\n",
            "JANICE\n",
            "2120 OLD MAIN STREET\n",
            "ANYTOWN TX 12345-0000\n",
            "Restriclions A\n",
            "9 End\n",
            "P\n",
            "damcetQmpe\n",
            "Hgt 5-04\n",
            "15 Sex F\n",
            "Eyes BLU\n",
            "DA\n",
            "Dd 1234567890o00oo0oo00\n",
            "Texas\n",
            "Exp\n"
          ]
        }
      ],
      "source": [
        "import easyocr\n",
        "\n",
        "def extract_text_from_image(image_path):\n",
        "    # Initialize the EasyOCR reader\n",
        "    reader = easyocr.Reader(['en'])\n",
        "\n",
        "    # Read the image and extract text\n",
        "    result = reader.readtext(image_path)\n",
        "\n",
        "    # Extract all text\n",
        "    extracted_text = []\n",
        "    for detection in result:\n",
        "        text = detection[1]\n",
        "        extracted_text.append(text)\n",
        "\n",
        "    return extracted_text\n",
        "\n",
        "# Specify the path to the image\n",
        "image_path = '/content/Texas_ID.png'\n",
        "\n",
        "# Extract text from the image\n",
        "text = extract_text_from_image(image_path)\n",
        "\n",
        "# Print the extracted text\n",
        "for line in text:\n",
        "    print(line)\n"
      ]
    },
    {
      "cell_type": "markdown",
      "source": [
        "Extracting only the ID Number"
      ],
      "metadata": {
        "id": "wE9_ml6Jf2_1"
      }
    },
    {
      "cell_type": "code",
      "source": [
        "import easyocr\n",
        "import re\n",
        "\n",
        "def extract_id_number(image_path):\n",
        "    # Initialize the EasyOCR reader\n",
        "    reader = easyocr.Reader(['en'])\n",
        "\n",
        "    # Read the image and extract text\n",
        "    result = reader.readtext(image_path)\n",
        "\n",
        "    # Extract the 8-digit ID number\n",
        "    id_number = None\n",
        "    for detection in result:\n",
        "        text = detection[1]\n",
        "        match = re.search(r'\\b\\d{8}\\b', text)\n",
        "        if match:\n",
        "            id_number = match.group()\n",
        "            break\n",
        "\n",
        "    return id_number\n",
        "\n",
        "# Specify the path to the image\n",
        "image_path = '/content/Texas_ID.png'\n",
        "\n",
        "# Extract the 8-digit ID number from the image\n",
        "id_number = extract_id_number(image_path)\n",
        "\n",
        "# Print the extracted ID number\n",
        "print(f\"ID number: {id_number}\")\n"
      ],
      "metadata": {
        "colab": {
          "base_uri": "https://localhost:8080/"
        },
        "id": "0SmwwVABftp6",
        "outputId": "37f02fbe-9d43-46eb-b7c7-ed18a5a432a4"
      },
      "execution_count": 8,
      "outputs": [
        {
          "output_type": "stream",
          "name": "stderr",
          "text": [
            "WARNING:easyocr.easyocr:Neither CUDA nor MPS are available - defaulting to CPU. Note: This module is much faster with a GPU.\n"
          ]
        },
        {
          "output_type": "stream",
          "name": "stdout",
          "text": [
            "ID number: 12345678\n"
          ]
        }
      ]
    },
    {
      "cell_type": "markdown",
      "source": [
        "## Extracting Dates"
      ],
      "metadata": {
        "id": "MFooqywlOkZF"
      }
    },
    {
      "cell_type": "code",
      "source": [
        "import easyocr\n",
        "import re\n",
        "from datetime import datetime\n",
        "\n",
        "def extract_id_details(image_path):\n",
        "    # Initialize the EasyOCR reader\n",
        "    reader = easyocr.Reader(['en'])\n",
        "\n",
        "    # Read the image and extract text\n",
        "    result = reader.readtext(image_path)\n",
        "\n",
        "    # Initialize variables\n",
        "    name = None\n",
        "    dob = None\n",
        "    issue_date = None\n",
        "    expiry_date = None\n",
        "\n",
        "    # Extract details using regular expressions\n",
        "    dates = []\n",
        "    for detection in result:\n",
        "        text = detection[1]\n",
        "\n",
        "\n",
        "        # Extract dates\n",
        "        match_dates = re.findall(r'\\b\\d{1,2}\\s*/\\s*\\d{1,2}\\s*/\\s*\\d{4}\\b', text)\n",
        "        if match_dates:\n",
        "            dates.extend(match_dates)\n",
        "\n",
        "    # Sort the extracted dates\n",
        "    dates.sort(key=lambda date: datetime.strptime(date, '%m/%d/%Y'))\n",
        "\n",
        "    # Categorize dates\n",
        "    if dates:\n",
        "        dob = dates[0]\n",
        "        issue_date = dates[len(dates) // 2]\n",
        "        expiry_date = dates[-1]\n",
        "\n",
        "    return  dob, issue_date, expiry_date\n",
        "\n",
        "# Specify the path to the image\n",
        "image_path = '/content/Texas_ID.png'\n",
        "\n",
        "# Extract ID details from the image\n",
        "dob, issue_date, expiry_date = extract_id_details(image_path)\n",
        "\n",
        "# Print the extracted details\n",
        "print(f\"DOB: {dob}\")\n",
        "print(f\"Issue Date: {issue_date}\")\n",
        "print(f\"Expiry Date: {expiry_date}\")\n"
      ],
      "metadata": {
        "colab": {
          "base_uri": "https://localhost:8080/"
        },
        "id": "yzXZyxKClXP1",
        "outputId": "ca2b8405-7fd9-42e7-f72c-5358fbd5f038"
      },
      "execution_count": 83,
      "outputs": [
        {
          "output_type": "stream",
          "name": "stderr",
          "text": [
            "WARNING:easyocr.easyocr:Neither CUDA nor MPS are available - defaulting to CPU. Note: This module is much faster with a GPU.\n"
          ]
        },
        {
          "output_type": "stream",
          "name": "stdout",
          "text": [
            "DOB: 07/30/1976\n",
            "Issue Date: 07/30/2006\n",
            "Expiry Date: 07/30/2012\n"
          ]
        }
      ]
    },
    {
      "cell_type": "markdown",
      "source": [
        "## Code to Derive data other than name and address"
      ],
      "metadata": {
        "id": "i_d5l7m5OJfg"
      }
    },
    {
      "cell_type": "code",
      "source": [
        "import easyocr\n",
        "import re\n",
        "from datetime import datetime\n",
        "\n",
        "def extract_id_details(image_path):\n",
        "    # Initialize the EasyOCR reader\n",
        "    reader = easyocr.Reader(['en'])\n",
        "\n",
        "    # Read the image and extract text\n",
        "    result = reader.readtext(image_path)\n",
        "\n",
        "    # Initialize variables\n",
        "    name = None\n",
        "    dob = None\n",
        "    sex = None\n",
        "    issue_date = None\n",
        "    expiry_date = None\n",
        "    id_number = None\n",
        "    restrictions = None\n",
        "    height = None\n",
        "    eye_color = None\n",
        "\n",
        "\n",
        "    # Extract details using regular expressions\n",
        "    dates = []\n",
        "    extracted_text = []\n",
        "    for detection in result:\n",
        "        text = detection[1]\n",
        "\n",
        "        # Remove extracted text from result\n",
        "        if extracted_text:\n",
        "            for extracted in extracted_text:\n",
        "                text = text.replace(extracted, '')\n",
        "\n",
        "        # Extract sex\n",
        "        if sex is None:\n",
        "            match_sex = re.search(r'(?i)Sex\\s+(\\w)', text)\n",
        "            if match_sex:\n",
        "                sex = match_sex.group(1)\n",
        "                extracted_text.append(match_sex.group())\n",
        "\n",
        "        # Extract dates\n",
        "        match_dates = re.findall(r'\\b\\d{1,2}\\s*/\\s*\\d{1,2}\\s*/\\s*\\d{4}\\b', text)\n",
        "        if match_dates:\n",
        "            dates.extend(match_dates)\n",
        "            extracted_text.extend(match_dates)\n",
        "\n",
        "        # Extract the 8-digit ID number\n",
        "        if id_number is None:\n",
        "            match_id = re.search(r'\\b\\d{8}\\b', text)\n",
        "            if match_id:\n",
        "                id_number = match_id.group()\n",
        "                extracted_text.append(match_id.group())\n",
        "\n",
        "        # Extract restrictions\n",
        "        if restrictions is None:\n",
        "            match_restrictions = re.search(r'(?i)Restriclions\\s+(.*)', text)\n",
        "            if match_restrictions:\n",
        "                restrictions = match_restrictions.group(1)\n",
        "                extracted_text.append(match_restrictions.group())\n",
        "\n",
        "        # Extract height\n",
        "        if height is None:\n",
        "            match_height = re.search(r'(?i)Hgt\\s+(\\d+-\\d+)', text)\n",
        "            if match_height:\n",
        "                height = match_height.group(1)\n",
        "                extracted_text.append(match_height.group())\n",
        "\n",
        "        # Extract eye color\n",
        "        if eye_color is None:\n",
        "            match_eye_color = re.search(r'(?i)Eyes\\s+(\\w+)', text)\n",
        "            if match_eye_color:\n",
        "                eye_color = match_eye_color.group(1)\n",
        "                extracted_text.append(match_eye_color.group())\n",
        "\n",
        "\n",
        "    # Sort the extracted dates\n",
        "    dates.sort(key=lambda date: datetime.strptime(date, '%m/%d/%Y'))\n",
        "\n",
        "    # Categorize dates\n",
        "    if dates:\n",
        "        if dob is None:\n",
        "            dob = dates[0]\n",
        "            extracted_text.append(dob)\n",
        "        issue_date = dates[len(dates) // 2]\n",
        "        extracted_text.append(issue_date)\n",
        "        expiry_date = dates[-1]\n",
        "        extracted_text.append(expiry_date)\n",
        "\n",
        "    # Remove extracted text from the full predictions\n",
        "    for i, detection in enumerate(result):\n",
        "        if detection[1] in extracted_text:\n",
        "            result.pop(i)\n",
        "\n",
        "    return name, dob, sex, issue_date, expiry_date, id_number, restrictions, height, eye_color\n",
        "\n",
        "# Specify the path to the image\n",
        "image_path = '/content/Texas_ID.png'\n",
        "\n",
        "# Extract ID details from the image\n",
        "name, dob, sex, issue_date, expiry_date, id_number, restrictions, height, eye_color = extract_id_details(image_path)\n",
        "\n",
        "# Print the extracted details\n",
        "print(f\"DOB: {dob}\")\n",
        "print(f\"Sex: {sex}\")\n",
        "print(f\"Issue Date: {issue_date}\")\n",
        "print(f\"Expiry Date: {expiry_date}\")\n",
        "print(f\"ID number: {id_number}\")\n",
        "print(f\"Restrictions: {restrictions}\")\n",
        "print(f\"Height: {height}\")\n",
        "print(f\"Eye Color: {eye_color}\")\n"
      ],
      "metadata": {
        "colab": {
          "base_uri": "https://localhost:8080/"
        },
        "id": "R_lQc1jI0CNx",
        "outputId": "7c299e27-855f-4673-cb98-4e91ad4e8205"
      },
      "execution_count": 60,
      "outputs": [
        {
          "output_type": "stream",
          "name": "stderr",
          "text": [
            "WARNING:easyocr.easyocr:Neither CUDA nor MPS are available - defaulting to CPU. Note: This module is much faster with a GPU.\n"
          ]
        },
        {
          "output_type": "stream",
          "name": "stdout",
          "text": [
            "DOB: 07/30/1976\n",
            "Sex: F\n",
            "Issue Date: 07/30/2006\n",
            "Expiry Date: 07/30/2012\n",
            "ID number: 12345678\n",
            "Restrictions: A\n",
            "Height: 5-04\n",
            "Eye Color: BLU\n"
          ]
        }
      ]
    },
    {
      "cell_type": "markdown",
      "source": [
        "## Code to Derive \"Name and Address\""
      ],
      "metadata": {
        "id": "AaO-xPlDGTMN"
      }
    },
    {
      "cell_type": "code",
      "source": [
        "import easyocr\n",
        "import re\n",
        "\n",
        "def extract_capitalized_text(image_path):\n",
        "    # Initialize the EasyOCR reader\n",
        "    reader = easyocr.Reader(['en'])\n",
        "\n",
        "    # Read the image and extract text\n",
        "    result = reader.readtext(image_path)\n",
        "\n",
        "    # Define the regular expression pattern for fully capitalized text\n",
        "    pattern = r'(?<!\\S)[A-Z\\s]+\\b'\n",
        "\n",
        "    # Extract text using the regular expression pattern\n",
        "    extracted_text = []\n",
        "    for detection in result:\n",
        "\n",
        "        matches = re.findall(pattern, text)\n",
        "        if matches:\n",
        "            extracted_text.extend(matches)\n",
        "\n",
        "    return extracted_text\n",
        "\n",
        "# Specify the path to the image\n",
        "image_path = '/content/Texas_ID.png'\n",
        "\n",
        "# Extract capitalized text from the image\n",
        "capitalized_text = extract_capitalized_text(image_path)\n",
        "\n",
        "# Print the extracted capitalized text\n",
        "for text in capitalized_text:\n",
        "    print(text.strip())\n"
      ],
      "metadata": {
        "colab": {
          "base_uri": "https://localhost:8080/"
        },
        "id": "uJZtoXR14ZTB",
        "outputId": "9b8a3474-5930-4107-b1b6-e21bb41c3070"
      },
      "execution_count": 52,
      "outputs": [
        {
          "output_type": "stream",
          "name": "stderr",
          "text": [
            "WARNING:easyocr.easyocr:Neither CUDA nor MPS are available - defaulting to CPU. Note: This module is much faster with a GPU.\n"
          ]
        },
        {
          "output_type": "stream",
          "name": "stdout",
          "text": [
            "USA\n",
            "TTX\n",
            "DRIVER LICENSE\n",
            "DL\n",
            "AM\n",
            "DOB\n",
            "SAMPLE\n",
            "JANICE\n",
            "OLD MAIN STREET\n",
            "ANYTOWN TX\n",
            "A\n",
            "P\n",
            "F\n",
            "BLU\n",
            "DA\n"
          ]
        }
      ]
    },
    {
      "cell_type": "code",
      "source": [
        "import easyocr\n",
        "import re\n",
        "\n",
        "def extract_capitalized_text(image_path):\n",
        "    # Initialize the EasyOCR reader\n",
        "    reader = easyocr.Reader(['en'])\n",
        "\n",
        "    # Read the image and extract text\n",
        "    result = reader.readtext(image_path)\n",
        "\n",
        "    # Define the regular expression pattern for fully capitalized text\n",
        "    pattern = r'(?<!\\S)[A-Z\\s]+\\b'\n",
        "\n",
        "    # Define the excluded keywords or patterns\n",
        "    excluded_keywords = ['USA', 'TTX', 'DRIVER LICENSE', 'DL', 'AM', 'DOB', 'A', 'P', 'F', 'BLU', 'DA', 'M', 'RESTRICTIONS', 'HGT']\n",
        "\n",
        "    # Extract text using the regular expression pattern\n",
        "    extracted_text = []\n",
        "    for detection in result:\n",
        "        text = detection[1]\n",
        "        matches = re.findall(pattern, text)\n",
        "        if matches:\n",
        "            for match in matches:\n",
        "                match = match.strip()\n",
        "                if match not in excluded_keywords:\n",
        "                    extracted_text.append(match)\n",
        "\n",
        "    return extracted_text\n",
        "\n",
        "# Specify the path to the image\n",
        "image_path = '/content/Screenshot 2023-06-05 at 4.13.45 PM.png'\n",
        "\n",
        "# Extract capitalized text from the image\n",
        "capitalized_text = extract_capitalized_text(image_path)\n",
        "\n",
        "# Print the extracted capitalized text\n",
        "for text in capitalized_text:\n",
        "    print(text)\n"
      ],
      "metadata": {
        "colab": {
          "base_uri": "https://localhost:8080/"
        },
        "id": "p8M7gUa96pQL",
        "outputId": "8c13c53b-7ffc-4149-90c6-5d83ab6bab51"
      },
      "execution_count": 71,
      "outputs": [
        {
          "output_type": "stream",
          "name": "stderr",
          "text": [
            "WARNING:easyocr.easyocr:Neither CUDA nor MPS are available - defaulting to CPU. Note: This module is much faster with a GPU.\n"
          ]
        },
        {
          "output_type": "stream",
          "name": "stdout",
          "text": [
            "TX\n",
            "ROSE STREET ROAD\n",
            "KING TOWN TX\n",
            "DD\n"
          ]
        },
        {
          "output_type": "stream",
          "name": "stderr",
          "text": [
            "WARNING:easyocr.easyocr:Neither CUDA nor MPS are available - defaulting to CPU. Note: This module is much faster with a GPU.\n"
          ]
        },
        {
          "output_type": "stream",
          "name": "stdout",
          "text": [
            "TX\n",
            "ROSE STREET ROAD\n",
            "KING TOWN TX\n",
            "DD\n"
          ]
        }
      ]
    },
    {
      "cell_type": "code",
      "source": [
        "import easyocr\n",
        "import re\n",
        "\n",
        "def extract_information(image_path):\n",
        "    # Initialize the EasyOCR reader\n",
        "    reader = easyocr.Reader(['en'])\n",
        "\n",
        "    # Read the image and extract text\n",
        "    result = reader.readtext(image_path)\n",
        "\n",
        "    # Define the regular expression pattern for fully capitalized text\n",
        "    pattern = r'(?<!\\S)[A-Z\\s]+\\b'\n",
        "\n",
        "    # Define the excluded keywords or patterns\n",
        "    excluded_keywords = ['USA', 'TTX', 'DRIVER LICENSE', 'DL', 'AM', 'DOB', 'A', 'P', 'F', 'BLU', 'DA', 'M', 'RESTRICTIONS', 'HGT']\n",
        "\n",
        "    # Extract text using the regular expression pattern\n",
        "    extracted_text = []\n",
        "    for detection in result:\n",
        "        text = detection[1]\n",
        "        matches = re.findall(pattern, text)\n",
        "        if matches:\n",
        "            for match in matches:\n",
        "                match = match.strip()\n",
        "                if match not in excluded_keywords:\n",
        "                    extracted_text.append(match)\n",
        "\n",
        "    # Extract the required information\n",
        "    first_name = extracted_text[0]\n",
        "    second_name = extracted_text[1]\n",
        "    first_line_address = extracted_text[2]\n",
        "    second_line_address =  extracted_text[3]\n",
        "\n",
        "    # Extract the whole sentence for \"OLD MAIN STREET\" and \"ANYTOWN TX\"\n",
        "    full_address = \"\"\n",
        "    for detection in result:\n",
        "        if extracted_text[2] in detection[1]:\n",
        "            full_address += detection[1] + \" \"\n",
        "        elif extracted_text[3] in detection[1]:\n",
        "            full_address += detection[1]\n",
        "            break\n",
        "\n",
        "    return first_name, second_name, first_line_address, second_line_address, full_address\n",
        "\n",
        "# Specify the path to the image\n",
        "image_path = '/content/Texas_ID.png'\n",
        "\n",
        "# Extract information from the image\n",
        "first_name, second_name, first_line_address, second_line_address, full_address = extract_information(image_path)\n",
        "\n",
        "# Print the extracted information\n",
        "print(f\"First Name: {first_name}\")\n",
        "print(f\"Second Name: {second_name}\")\n",
        "print(f\"Full Address: {full_address}\")\n"
      ],
      "metadata": {
        "colab": {
          "base_uri": "https://localhost:8080/"
        },
        "id": "9IDamnc49BUZ",
        "outputId": "9b43d8c2-77b7-48e7-d840-b27b8b30874a"
      },
      "execution_count": 59,
      "outputs": [
        {
          "output_type": "stream",
          "name": "stderr",
          "text": [
            "WARNING:easyocr.easyocr:Neither CUDA nor MPS are available - defaulting to CPU. Note: This module is much faster with a GPU.\n"
          ]
        },
        {
          "output_type": "stream",
          "name": "stdout",
          "text": [
            "First Name: SAMPLE\n",
            "Second Name: JANICE\n",
            "Full Address: 2120 OLD MAIN STREET ANYTOWN TX 12345-0000\n"
          ]
        }
      ]
    },
    {
      "cell_type": "markdown",
      "source": [
        "## Full Operation"
      ],
      "metadata": {
        "id": "fnsCn0X8GKx_"
      }
    },
    {
      "cell_type": "code",
      "source": [
        "import easyocr\n",
        "import re\n",
        "from datetime import datetime\n",
        "\n",
        "def extract_id_details(image_path):\n",
        "    # Initialize the EasyOCR reader\n",
        "    reader = easyocr.Reader(['en'])\n",
        "\n",
        "    # Read the image and extract text\n",
        "    result = reader.readtext(image_path)\n",
        "\n",
        "    # Initialize variables\n",
        "    name = None\n",
        "    dob = None\n",
        "    sex = None\n",
        "    issue_date = None\n",
        "    expiry_date = None\n",
        "    id_number = None\n",
        "    restrictions = None\n",
        "    height = None\n",
        "    eye_color = None\n",
        "\n",
        "    # Extract details using regular expressions\n",
        "    dates = []\n",
        "    extracted_text = []\n",
        "    for detection in result:\n",
        "        text = detection[1]\n",
        "\n",
        "        # Remove extracted text from result\n",
        "        if extracted_text:\n",
        "            for extracted in extracted_text:\n",
        "                text = text.replace(extracted, '')\n",
        "\n",
        "        # Extract sex\n",
        "        if sex is None:\n",
        "            match_sex = re.search(r'(?i)Sex\\s+(\\w)', text)\n",
        "            if match_sex:\n",
        "                sex = match_sex.group(1)\n",
        "                extracted_text.append(match_sex.group())\n",
        "\n",
        "        # Extract dates\n",
        "        match_dates = re.findall(r'\\b\\d{1,2}\\s*/\\s*\\d{1,2}\\s*/\\s*\\d{4}\\b', text)\n",
        "        if match_dates:\n",
        "            dates.extend(match_dates)\n",
        "            extracted_text.extend(match_dates)\n",
        "\n",
        "        # Extract the 8-digit ID number\n",
        "        if id_number is None:\n",
        "            match_id = re.search(r'\\b\\d{8}\\b', text)\n",
        "            if match_id:\n",
        "                id_number = match_id.group()\n",
        "                extracted_text.append(match_id.group())\n",
        "\n",
        "        # Extract restrictions\n",
        "        if restrictions is None:\n",
        "            match_restrictions = re.search(r'(?i)Restriclions\\s+(.*)', text)\n",
        "            if match_restrictions:\n",
        "                restrictions = match_restrictions.group(1)\n",
        "                extracted_text.append(match_restrictions.group())\n",
        "\n",
        "        # Extract height\n",
        "        if height is None:\n",
        "            match_height = re.search(r'(?i)Hgt\\s+(\\d+-\\d+)', text)\n",
        "            if match_height:\n",
        "                height = match_height.group(1)\n",
        "                extracted_text.append(match_height.group())\n",
        "\n",
        "        # Extract eye color\n",
        "        if eye_color is None:\n",
        "            match_eye_color = re.search(r'(?i)Eyes\\s+(\\w+)', text)\n",
        "            if match_eye_color:\n",
        "                eye_color = match_eye_color.group(1)\n",
        "                extracted_text.append(match_eye_color.group())\n",
        "\n",
        "    # Sort the extracted dates\n",
        "    dates.sort(key=lambda date: datetime.strptime(date, '%m/%d/%Y'))\n",
        "\n",
        "    # Categorize dates\n",
        "    if dates:\n",
        "        if dob is None:\n",
        "            dob = dates[0]\n",
        "            extracted_text.append(dob)\n",
        "        issue_date = dates[len(dates) // 2]\n",
        "        extracted_text.append(issue_date)\n",
        "        expiry_date = dates[-1]\n",
        "        extracted_text.append(expiry_date)\n",
        "\n",
        "    # Remove extracted text from the full predictions\n",
        "    for i, detection in enumerate(result):\n",
        "        if detection[1] in extracted_text:\n",
        "            result.pop(i)\n",
        "\n",
        "    return  dob, sex, issue_date, expiry_date, id_number, restrictions, height, eye_color\n",
        "\n",
        "\n",
        "def extract_information(image_path):\n",
        "    # Initialize the EasyOCR reader\n",
        "    reader = easyocr.Reader(['en'])\n",
        "\n",
        "    # Read the image and extract text\n",
        "    result = reader.readtext(image_path)\n",
        "\n",
        "    # Define the regular expression pattern for fully capitalized text\n",
        "    pattern = r'(?<!\\S)[A-Z\\s]+\\b'\n",
        "\n",
        "    # Define the excluded keywords or patterns\n",
        "    excluded_keywords = ['USA', 'TTX', 'DRIVER LICENSE', 'DL', 'AM', 'DOB', 'A', 'P', 'F', 'BLU', 'DA', 'M', 'RESTRICTIONS', 'HGT']\n",
        "\n",
        "    # Extract text using the regular expression pattern\n",
        "    extracted_text = []\n",
        "    for detection in result:\n",
        "        text = detection[1]\n",
        "        matches = re.findall(pattern, text)\n",
        "        if matches:\n",
        "            for match in matches:\n",
        "                match = match.strip()\n",
        "                if match not in excluded_keywords:\n",
        "                    extracted_text.append(match)\n",
        "\n",
        "    # Extract the required information\n",
        "    first_name = extracted_text[0]\n",
        "    second_name = extracted_text[1]\n",
        "    first_line_address = extracted_text[2]\n",
        "    second_line_address = extracted_text[3]\n",
        "\n",
        "    # Extract the whole sentence for \"OLD MAIN STREET\" and \"ANYTOWN TX\"\n",
        "    full_address = \"\"\n",
        "    for detection in result:\n",
        "        if extracted_text[2] in detection[1]:\n",
        "            full_address += detection[1] + \" \"\n",
        "        elif extracted_text[3] in detection[1]:\n",
        "            full_address += detection[1]\n",
        "            break\n",
        "\n",
        "    return first_name, second_name, first_line_address, second_line_address, full_address\n",
        "\n",
        "\n",
        "# Specify the path to the image\n",
        "image_path = '/content/Texas_ID.png'\n",
        "\n",
        "# Extract ID details from the image\n",
        "dob, sex, issue_date, expiry_date, id_number, restrictions, height, eye_color = extract_id_details(image_path)\n",
        "\n",
        "# Extract information from the image\n",
        "first_name, second_name, first_line_address, second_line_address, full_address = extract_information(image_path)\n",
        "\n",
        "# Print the extracted details\n",
        "# Print the extracted information\n",
        "print(\"\\nInformation:\")\n",
        "print(f\"First Name: {first_name}\")\n",
        "print(f\"Second Name: {second_name}\")\n",
        "print(f\"Full Address: {full_address}\")\n",
        "print(f\"DOB: {dob}\")\n",
        "print(f\"Sex: {sex}\")\n",
        "print(f\"Issue Date: {issue_date}\")\n",
        "print(f\"Expiry Date: {expiry_date}\")\n",
        "print(f\"ID number: {id_number}\")\n",
        "print(f\"Restrictions: {restrictions}\")\n",
        "print(f\"Height: {height}\")\n",
        "print(f\"Eye Color: {eye_color}\")\n"
      ],
      "metadata": {
        "colab": {
          "base_uri": "https://localhost:8080/"
        },
        "id": "bX1zfwPR-_w0",
        "outputId": "9c09059d-3039-467c-d117-51119d17a78d"
      },
      "execution_count": 72,
      "outputs": [
        {
          "output_type": "stream",
          "name": "stderr",
          "text": [
            "WARNING:easyocr.easyocr:Neither CUDA nor MPS are available - defaulting to CPU. Note: This module is much faster with a GPU.\n",
            "WARNING:easyocr.easyocr:Neither CUDA nor MPS are available - defaulting to CPU. Note: This module is much faster with a GPU.\n"
          ]
        },
        {
          "output_type": "stream",
          "name": "stdout",
          "text": [
            "\n",
            "Information:\n",
            "First Name: SAMPLE\n",
            "Second Name: JANICE\n",
            "Full Address: 2120 OLD MAIN STREET ANYTOWN TX 12345-0000\n",
            "DOB: 07/30/1976\n",
            "Sex: F\n",
            "Issue Date: 07/30/2006\n",
            "Expiry Date: 07/30/2012\n",
            "ID number: 12345678\n",
            "Restrictions: A\n",
            "Height: 5-04\n",
            "Eye Color: BLU\n"
          ]
        }
      ]
    },
    {
      "cell_type": "markdown",
      "source": [
        "Inclusion of Dictionary"
      ],
      "metadata": {
        "id": "Fdj1sSvRN5QO"
      }
    },
    {
      "cell_type": "code",
      "source": [
        "import easyocr\n",
        "import re\n",
        "from datetime import datetime\n",
        "\n",
        "def extract_id_details(image_path):\n",
        "    # Initialize the EasyOCR reader\n",
        "    reader = easyocr.Reader(['en'])\n",
        "\n",
        "    # Read the image and extract text\n",
        "    result = reader.readtext(image_path)\n",
        "\n",
        "    # Initialize variables\n",
        "    details = {}\n",
        "\n",
        "    # Extract details using regular expressions\n",
        "    dates = []\n",
        "    extracted_text = []\n",
        "    for detection in result:\n",
        "        text = detection[1]\n",
        "\n",
        "        # Remove extracted text from result\n",
        "        if extracted_text:\n",
        "            for extracted in extracted_text:\n",
        "                text = text.replace(extracted, '')\n",
        "\n",
        "        # Extract sex\n",
        "        if 'sex' not in details:\n",
        "            match_sex = re.search(r'(?i)Sex\\s+(\\w)', text)\n",
        "            if match_sex:\n",
        "                details['sex'] = match_sex.group(1)\n",
        "                extracted_text.append(match_sex.group())\n",
        "\n",
        "        # Extract dates\n",
        "        match_dates = re.findall(r'\\b\\d{1,2}\\s*/\\s*\\d{1,2}\\s*/\\s*\\d{4}\\b', text)\n",
        "        if match_dates:\n",
        "            dates.extend(match_dates)\n",
        "            extracted_text.extend(match_dates)\n",
        "\n",
        "        # Extract the 8-digit ID number\n",
        "        if 'id_number' not in details:\n",
        "            match_id = re.search(r'\\b\\d{8}\\b', text)\n",
        "            if match_id:\n",
        "                details['id_number'] = match_id.group()\n",
        "                extracted_text.append(match_id.group())\n",
        "\n",
        "        # Extract restrictions\n",
        "        if 'restrictions' not in details:\n",
        "            match_restrictions = re.search(r'(?i)Restriclions\\s+(.*)', text)\n",
        "            if match_restrictions:\n",
        "                details['restrictions'] = match_restrictions.group(1)\n",
        "                extracted_text.append(match_restrictions.group())\n",
        "\n",
        "        # Extract height\n",
        "        if 'height' not in details:\n",
        "            match_height = re.search(r'(?i)Hgt\\s+(\\d+-\\d+)', text)\n",
        "            if match_height:\n",
        "                details['height'] = match_height.group(1)\n",
        "                extracted_text.append(match_height.group())\n",
        "\n",
        "        # Extract eye color\n",
        "        if 'eye_color' not in details:\n",
        "            match_eye_color = re.search(r'(?i)Eyes\\s+(\\w+)', text)\n",
        "            if match_eye_color:\n",
        "                details['eye_color'] = match_eye_color.group(1)\n",
        "                extracted_text.append(match_eye_color.group())\n",
        "\n",
        "    # Sort the extracted dates\n",
        "    dates.sort(key=lambda date: datetime.strptime(date, '%m/%d/%Y'))\n",
        "\n",
        "    # Categorize dates\n",
        "    if dates:\n",
        "        if 'dob' not in details:\n",
        "            details['dob'] = dates[0]\n",
        "            extracted_text.append(details['dob'])\n",
        "        details['issue_date'] = dates[len(dates) // 2]\n",
        "        extracted_text.append(details['issue_date'])\n",
        "        details['expiry_date'] = dates[-1]\n",
        "        extracted_text.append(details['expiry_date'])\n",
        "\n",
        "    # Remove extracted text from the full predictions\n",
        "    for i, detection in enumerate(result):\n",
        "        if detection[1] in extracted_text:\n",
        "            result.pop(i)\n",
        "\n",
        "    return details\n",
        "\n",
        "\n",
        "def extract_information(image_path):\n",
        "    # Initialize the EasyOCR reader\n",
        "    reader = easyocr.Reader(['en'])\n",
        "\n",
        "    # Read the image and extract text\n",
        "    result = reader.readtext(image_path)\n",
        "\n",
        "    # Define the regular expression pattern for fully capitalized text\n",
        "    pattern = r'(?<!\\S)[A-Z\\s]+\\b'\n",
        "\n",
        "    # Define the excluded keywords or patterns\n",
        "    excluded_keywords = ['USA', 'TTX', 'DRIVER LICENSE', 'DL', 'AM', 'DOB', 'A', 'P', 'F', 'BLU', 'DA', 'M', 'RESTRICTIONS', 'HGT']\n",
        "\n",
        "    # Extract text using the regular expression pattern\n",
        "    extracted_text = []\n",
        "    for detection in result:\n",
        "        text = detection[1]\n",
        "        matches = re.findall(pattern, text)\n",
        "        if matches:\n",
        "            for match in matches:\n",
        "                match = match.strip()\n",
        "                if match not in excluded_keywords:\n",
        "                    extracted_text.append(match)\n",
        "\n",
        "    # Extract the required information\n",
        "    details = {}\n",
        "    details['name'] = extracted_text[0]\n",
        "    details['second_name'] = extracted_text[1]\n",
        "    details['first_line_address'] = extracted_text[2]\n",
        "    details['second_line_address'] = extracted_text[3]\n",
        "\n",
        "    # Extract the whole sentence for \"OLD MAIN STREET\" and \"ANYTOWN TX\"\n",
        "    full_address = \"\"\n",
        "    for detection in result:\n",
        "        if extracted_text[2] in detection[1]:\n",
        "            full_address += detection[1] + \" \"\n",
        "        elif extracted_text[3] in detection[1]:\n",
        "            full_address += detection[1]\n",
        "            break\n",
        "\n",
        "    details['full_address'] = full_address\n",
        "\n",
        "    return details\n",
        "\n",
        "\n",
        "# Specify the path to the image\n",
        "image_path = '/content/Texas_ID.png'\n",
        "\n",
        "# Extract ID details from the image\n",
        "id_details = extract_id_details(image_path)\n",
        "\n",
        "# Extract information from the image\n",
        "information = extract_information(image_path)\n",
        "\n",
        "# Combine the extracted details and information\n",
        "combined_data = {**id_details, **information}\n",
        "\n",
        "# Print the extracted details and information\n",
        "print(\"Extracted Details and Information:\")\n",
        "for key, value in combined_data.items():\n",
        "    print(f\"{key}: {value}\")\n"
      ],
      "metadata": {
        "colab": {
          "base_uri": "https://localhost:8080/"
        },
        "id": "PfoKmddINB5b",
        "outputId": "5e8345e1-ac4d-46f0-e49c-e168a5b57638"
      },
      "execution_count": 77,
      "outputs": [
        {
          "output_type": "stream",
          "name": "stderr",
          "text": [
            "WARNING:easyocr.easyocr:Neither CUDA nor MPS are available - defaulting to CPU. Note: This module is much faster with a GPU.\n",
            "WARNING:easyocr.easyocr:Neither CUDA nor MPS are available - defaulting to CPU. Note: This module is much faster with a GPU.\n"
          ]
        },
        {
          "output_type": "stream",
          "name": "stdout",
          "text": [
            "Extracted Details and Information:\n",
            "id_number: 12345678\n",
            "restrictions: A\n",
            "height: 5-04\n",
            "sex: F\n",
            "eye_color: BLU\n",
            "dob: 07/30/1976\n",
            "issue_date: 07/30/2006\n",
            "expiry_date: 07/30/2012\n",
            "name: SAMPLE\n",
            "second_name: JANICE\n",
            "first_line_address: OLD MAIN STREET\n",
            "second_line_address: ANYTOWN TX\n",
            "full_address: 2120 OLD MAIN STREET ANYTOWN TX 12345-0000\n"
          ]
        }
      ]
    },
    {
      "cell_type": "code",
      "source": [
        "combined_data"
      ],
      "metadata": {
        "colab": {
          "base_uri": "https://localhost:8080/"
        },
        "id": "9eZB7azENLYX",
        "outputId": "621025c1-b7c9-42e2-c839-b7873d249e2f"
      },
      "execution_count": 80,
      "outputs": [
        {
          "output_type": "execute_result",
          "data": {
            "text/plain": [
              "{'id_number': '12345678',\n",
              " 'restrictions': 'A',\n",
              " 'height': '5-04',\n",
              " 'sex': 'F',\n",
              " 'eye_color': 'BLU',\n",
              " 'dob': '07/30/1976',\n",
              " 'issue_date': '07/30/2006',\n",
              " 'expiry_date': '07/30/2012',\n",
              " 'name': 'SAMPLE',\n",
              " 'second_name': 'JANICE',\n",
              " 'first_line_address': 'OLD MAIN STREET',\n",
              " 'second_line_address': 'ANYTOWN TX',\n",
              " 'full_address': '2120 OLD MAIN STREET ANYTOWN TX 12345-0000'}"
            ]
          },
          "metadata": {},
          "execution_count": 80
        }
      ]
    }
  ]
}